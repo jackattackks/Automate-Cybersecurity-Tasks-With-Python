{
 "cells": [
  {
   "cell_type": "markdown",
   "metadata": {
    "id": "4w9z0bsxsL4Y"
   },
   "source": [
    "# Activity: Create another algorithm"
   ]
  },
  {
   "cell_type": "markdown",
   "metadata": {
    "id": "ivt8p77hCKcO"
   },
   "source": [
    "## Introduction\n",
    "\n",
    "An important part of cybersecurity is controlling access to restricted content. In this lab, you'll work with a text file containing IP addresses that are allowed to access specific restricted content at your organization.\n",
    "\n",
    "Parsing a file allows security analysts to read and update the contents. Python helps analysts develop algorithms to automate the process of parsing files and keeping them up-to-date.\n",
    "\n",
    "You'll develop an algorithm that parses this text file of IP addresses and updates the file by removing that addresses that no longer have access to the restricted content."
   ]
  },
  {
   "cell_type": "markdown",
   "metadata": {
    "id": "eW4pA4LsC-vb"
   },
   "source": [
    "<details><summary><h2>Tips for completing this lab</h2></summary>\n",
    "\n",
    "As you navigate this lab, keep the following tips in mind:\n",
    "\n",
    "- `### YOUR CODE HERE ###` indicates where you should write code. Be sure to replace this with your own code before running the code cell.\n",
    "- Feel free to open the hints for additional guidance as you work on each task. \n",
    "- To enter your answer to a question, double-click the markdown cell to edit. Be sure to replace the \"[Double-click to enter your responses here.]\" with your own answer.\n",
    "- You can save your work manually by clicking File and then Save in the menu bar at the top of the notebook. \n",
    "- You can download your work locally by clicking File and then Download and then specifying your preferred file format in the menu bar at the top of the notebook. \n",
    "</details>"
   ]
  },
  {
   "cell_type": "markdown",
   "metadata": {
    "id": "dQ2elTOeCMNv"
   },
   "source": [
    "## Scenario\n",
    "\n",
    "In this lab, you're working as a security analyst and you're responsible for developing an algorithm that parses a file containing IP addresses that are allowed to access restricted content and removes addresses that no longer have access."
   ]
  },
  {
   "cell_type": "markdown",
   "metadata": {
    "id": "zo1HFh3XsS6S"
   },
   "source": [
    "## Task 1\n",
    "Your eventual goal is to develop an algorithm that parses a series of IP addresses that can access restricted information and removes the addresses that are no longer allowed. Python can automate this process.\n",
    "\n",
    "You're given a text file called `\"allow_list.txt\"` that contains a series of IP addresses that are allowed to access restricted information. \n",
    "\n",
    "There are IP addresses that should no longer have access to this information, and their IP addresses need to be removed from the text file. You're given a variable named `remove_list` that contains the list of IP addresses to be removed.\n",
    "\n",
    "Display both variables to explore their contents, and run the cell. Be sure to replace each `### YOUR CODE HERE ###` with your own code before running the following cell."
   ]
  },
  {
   "cell_type": "code",
   "execution_count": 1,
   "metadata": {
    "id": "dxeblX9m2Lva"
   },
   "outputs": [
    {
     "name": "stdout",
     "output_type": "stream",
     "text": [
      "allow_list.txt\n",
      "['192.168.97.225', '192.168.158.170', '192.168.201.40', '192.168.58.57']\n"
     ]
    }
   ],
   "source": [
    "# Assign `import_file` to the name of the file \n",
    "\n",
    "import_file = \"allow_list.txt\"\n",
    "\n",
    "# Assign `remove_list` to a list of IP addresses that are no longer allowed to access restricted information. \n",
    "\n",
    "remove_list = [\"192.168.97.225\", \"192.168.158.170\", \"192.168.201.40\", \"192.168.58.57\"]\n",
    "\n",
    "# Display `import_file`\n",
    "\n",
    "print(import_file)\n",
    "\n",
    "# Display `remove_list`\n",
    "\n",
    "print(remove_list)"
   ]
  },
  {
   "cell_type": "markdown",
   "metadata": {
    "id": "N4iCk5h-BEW4"
   },
   "source": [
    "<details>\n",
    "  <summary><h4><strong>Hint 1</strong></h4></summary>\n",
    "\n",
    "To display the contents of a variable, pass it as an argument to the `print()` function.\n",
    "\n",
    "</details>"
   ]
  },
  {
   "cell_type": "markdown",
   "metadata": {
    "id": "F5C4y6A8jWPj"
   },
   "source": [
    "#### **Question 1**\n",
    "**What do you observe about the output above?**\n"
   ]
  },
  {
   "cell_type": "markdown",
   "metadata": {
    "id": "_v4mWtXSmkUX"
   },
   "source": [
    "the name of the allowed list displays\n",
    "IP addresses are in a list"
   ]
  },
  {
   "cell_type": "markdown",
   "metadata": {
    "id": "z0N_eEcRpZQS"
   },
   "source": [
    "## Task 2\n",
    "In this task, start by opening the text file using the `import_file` variable, the `with` keyword, and the `open()` function with the `\"r\"` parameter. Be sure to replace the `### YOUR CODE HERE ###` with your own code.\n",
    "\n",
    "For now, you'll write the first line of the `with` statement. Running this code will produce an error because it will only contain the first line of the `with` statement; you'll complete this `with` statement in the task after this."
   ]
  },
  {
   "cell_type": "code",
   "execution_count": 3,
   "metadata": {
    "id": "LPVPVJKC3j01"
   },
   "outputs": [
    {
     "ename": "SyntaxError",
     "evalue": "unexpected EOF while parsing (<ipython-input-3-b925af1022fc>, line 11)",
     "output_type": "error",
     "traceback": [
      "\u001b[0;36m  File \u001b[0;32m\"<ipython-input-3-b925af1022fc>\"\u001b[0;36m, line \u001b[0;32m11\u001b[0m\n\u001b[0;31m    with open(import_file, \"r\") as file:\u001b[0m\n\u001b[0m                                        ^\u001b[0m\n\u001b[0;31mSyntaxError\u001b[0m\u001b[0;31m:\u001b[0m unexpected EOF while parsing\n"
     ]
    }
   ],
   "source": [
    "# Assign `import_file` to the name of the file \n",
    "\n",
    "import_file = \"allow_list.txt\"\n",
    "\n",
    "# Assign `remove_list` to a list of IP addresses that are no longer allowed to access restricted information. \n",
    "\n",
    "remove_list = [\"192.168.97.225\", \"192.168.158.170\", \"192.168.201.40\", \"192.168.58.57\"]\n",
    "\n",
    "# First line of `with` statement\n",
    "\n",
    "with open(import_file, \"r\") as file:"
   ]
  },
  {
   "cell_type": "markdown",
   "metadata": {
    "id": "vunjTntCnYSS"
   },
   "source": [
    "<details>\n",
    "  <summary><h4><strong>Hint 1</strong></h4></summary>\n",
    "\n",
    "The `open()` function in Python allows you to open a file. \n",
    "\n",
    "As the first parameter, it takes in the name of the file (or a variable containing the name of the file). As the second parameter, it takes in a string that indicates how the file should be handled.\n",
    "\n",
    "Pass in the letter `\"r\"` as the second parameter when you want to read the file.\n",
    "\n",
    "</details>"
   ]
  },
  {
   "cell_type": "markdown",
   "metadata": {
    "id": "0MpuZ_7Y3qHB"
   },
   "source": [
    "## Task 3\n",
    "Now, use the `.read()` method to read the imported file and store it in a variable named `ip_addresses`. \n",
    "\n",
    "Afterwards, display `ip_addresses` to examine the data in its current format. \n",
    "\n",
    "Be sure to replace each `### YOUR CODE HERE ###` with your own code before you run the following cell."
   ]
  },
  {
   "cell_type": "code",
   "execution_count": 4,
   "metadata": {
    "id": "zvlBO9Eh5J4H"
   },
   "outputs": [
    {
     "name": "stdout",
     "output_type": "stream",
     "text": [
      "ip_address\n",
      "192.168.25.60\n",
      "192.168.205.12\n",
      "192.168.97.225\n",
      "192.168.6.9\n",
      "192.168.52.90\n",
      "192.168.158.170\n",
      "192.168.90.124\n",
      "192.168.186.176\n",
      "192.168.133.188\n",
      "192.168.203.198\n",
      "192.168.201.40\n",
      "192.168.218.219\n",
      "192.168.52.37\n",
      "192.168.156.224\n",
      "192.168.60.153\n",
      "192.168.58.57\n",
      "192.168.69.116\n",
      "\n"
     ]
    }
   ],
   "source": [
    "# Assign `import_file` to the name of the file \n",
    "\n",
    "import_file = \"allow_list.txt\"\n",
    "\n",
    "# Assign `remove_list` to a list of IP addresses that are no longer allowed to access restricted information. \n",
    "\n",
    "remove_list = [\"192.168.97.225\", \"192.168.158.170\", \"192.168.201.40\", \"192.168.58.57\"]\n",
    "\n",
    "# Build `with` statement to read in the initial contents of the file\n",
    "\n",
    "with open(import_file, \"r\") as file:\n",
    "\n",
    "  # Use `.read()` to read the imported file and store it in a variable named `ip_addresses`\n",
    "\n",
    "  ip_addresses = file.read()\n",
    "\n",
    "# Display `ip_addresses`\n",
    "\n",
    "print(ip_addresses)"
   ]
  },
  {
   "cell_type": "markdown",
   "metadata": {
    "id": "fxll4f1K5lCm"
   },
   "source": [
    "<details>\n",
    "  <summary><h4><strong>Hint 1</strong></h4></summary>\n",
    "\n",
    "The `.read()` method in Python allows you to read in a file.\n",
    "\n",
    "</details>"
   ]
  },
  {
   "cell_type": "markdown",
   "metadata": {
    "id": "zU2SGDi_q8_v"
   },
   "source": [
    "<details>\n",
    "  <summary><h4><strong>Hint 2</strong></h4></summary>\n",
    "\n",
    "Call `file.read()` to read the imported file.\n",
    "\n",
    "</details>"
   ]
  },
  {
   "cell_type": "markdown",
   "metadata": {
    "id": "pqh-zmUh5-qi"
   },
   "source": [
    "<details>\n",
    "  <summary><h4><strong>Hint 3</strong></h4></summary>\n",
    "\n",
    "To display the contents of a variable, pass it as an argument to the `print()` function.\n",
    "\n",
    "</details>"
   ]
  },
  {
   "cell_type": "markdown",
   "metadata": {
    "id": "MrvKB19ltc6A"
   },
   "source": [
    "#### **Question 2**\n",
    "**Do you notice any IP addresses in the allow list that are also in the `remove_list`?**\n"
   ]
  },
  {
   "cell_type": "markdown",
   "metadata": {
    "id": "Tk1NmzVNuIa6"
   },
   "source": [
    "yes"
   ]
  },
  {
   "cell_type": "markdown",
   "metadata": {
    "id": "Iv06Y6Dv6CME"
   },
   "source": [
    "## Task 4\n",
    "After reading the file, reassign the `ip_addresses` variable so its data type is updated from a string to a list. Use the `.split()` method to achieve this. Adding this step will allow you to iterate through each of the IP addresses in the allow list instead of navigating a large string that contains all the addresses merged together. \n",
    "\n",
    "Afterwards, display the `ip_addresses` variable to verify that the update took place.\n",
    "\n",
    "Be sure to replace each `### YOUR CODE HERE ###` with your own code before you run the following cell."
   ]
  },
  {
   "cell_type": "code",
   "execution_count": 8,
   "metadata": {
    "id": "HB-HMhEX8jzU"
   },
   "outputs": [
    {
     "name": "stdout",
     "output_type": "stream",
     "text": [
      "['ip_address', '192.168.25.60', '192.168.205.12', '192.168.97.225', '192.168.6.9', '192.168.52.90', '192.168.158.170', '192.168.90.124', '192.168.186.176', '192.168.133.188', '192.168.203.198', '192.168.201.40', '192.168.218.219', '192.168.52.37', '192.168.156.224', '192.168.60.153', '192.168.58.57', '192.168.69.116', '']\n"
     ]
    }
   ],
   "source": [
    "# Assign `import_file` to the name of the file \n",
    "\n",
    "import_file = \"allow_list.txt\"\n",
    "\n",
    "# Assign `remove_list` to a list of IP addresses that are no longer allowed to access restricted information. \n",
    "\n",
    "remove_list = [\"192.168.97.225\", \"192.168.158.170\", \"192.168.201.40\", \"192.168.58.57\"]\n",
    "\n",
    "# Build `with` statement to read in the initial contents of the file\n",
    "\n",
    "with open(import_file, \"r\") as file:\n",
    "\n",
    "  # Use `.read()` to read the imported file and store it in a variable named `ip_addresses`\n",
    "\n",
    "  ip_addresses = file.read()\n",
    "\n",
    "# Use `.split()` to convert `ip_addresses` from a string to a list\n",
    "\n",
    "ip_addresses = ip_addresses.split(\"\\n\")\n",
    "\n",
    "# Display `ip_addresses`\n",
    "\n",
    "print(ip_addresses)"
   ]
  },
  {
   "cell_type": "markdown",
   "metadata": {
    "id": "1tOgXngO82g8"
   },
   "source": [
    "<details>\n",
    "  <summary><h4><strong>Hint 1</strong></h4></summary>\n",
    "\n",
    "The `.split()` method in Python allows you to convert a string to a list. This method can take in a parameter that specifies which character to split on. If a parameter is not passed in, the method will split on whitespace by default. Note that whitespace includes any space between text on the same line and the space between one line and the next line.\n",
    "\n",
    "In this task, the default behavior of `.split()` works well. Each IP address is on a new line in the `allow_list.txt` file. In other words, there is whitespace between IP addresses in the text file. When you use `.split()`, it will separate the IP addresses and output them as a list.\n",
    "\n",
    "</details>"
   ]
  },
  {
   "cell_type": "markdown",
   "metadata": {
    "id": "zLtButSu82g9"
   },
   "source": [
    "<details>\n",
    "  <summary><h4><strong>Hint 2</strong></h4></summary>\n",
    "\n",
    "To display the contents of a variable, pass it as an argument to the `print()` function.\n",
    "\n",
    "</details>"
   ]
  },
  {
   "cell_type": "markdown",
   "metadata": {
    "id": "083QDEoV-6ZP"
   },
   "source": [
    "## Task 5\n",
    "Now, you'll write code that removes the elements of `remove_list` from the `ip_addresses` list. This will require both an iterative statement and a conditional statement. \n",
    "\n",
    "First, build the iterative statement. Name the loop variable `element`, loop through `ip_addresses`, and display each element. Be sure to replace each `### YOUR CODE HERE ###` with your own code before you run the following cell.\n"
   ]
  },
  {
   "cell_type": "code",
   "execution_count": 11,
   "metadata": {
    "id": "9Liw9LIH__TN"
   },
   "outputs": [
    {
     "name": "stdout",
     "output_type": "stream",
     "text": [
      "ip_address\n",
      "192.168.25.60\n",
      "192.168.205.12\n",
      "192.168.97.225\n",
      "192.168.6.9\n",
      "192.168.52.90\n",
      "192.168.158.170\n",
      "192.168.90.124\n",
      "192.168.186.176\n",
      "192.168.133.188\n",
      "192.168.203.198\n",
      "192.168.201.40\n",
      "192.168.218.219\n",
      "192.168.52.37\n",
      "192.168.156.224\n",
      "192.168.60.153\n",
      "192.168.58.57\n",
      "192.168.69.116\n"
     ]
    }
   ],
   "source": [
    "# Assign `import_file` to the name of the file \n",
    "\n",
    "import_file = \"allow_list.txt\"\n",
    "\n",
    "# Assign `remove_list` to a list of IP addresses that are no longer allowed to access restricted information. \n",
    "\n",
    "remove_list = [\"192.168.97.225\", \"192.168.158.170\", \"192.168.201.40\", \"192.168.58.57\"]\n",
    "\n",
    "# Build `with` statement to read in the initial contents of the file\n",
    "\n",
    "with open(import_file, \"r\") as file:\n",
    "\n",
    "  # Use `.read()` to read the imported file and store it in a variable named `ip_addresses`\n",
    "\n",
    "  ip_addresses = file.read()\n",
    "\n",
    "# Use `.split()` to convert `ip_addresses` from a string to a list\n",
    "\n",
    "ip_addresses = ip_addresses.split()\n",
    "\n",
    "# Build iterative statement\n",
    "# Name loop variable `element`\n",
    "# Loop through `ip_addresses`\n",
    "\n",
    "for element in ip_addresses:\n",
    "    \n",
    "    \n",
    "    # Display `element` in every iteration\n",
    "\n",
    "    print(element)"
   ]
  },
  {
   "cell_type": "markdown",
   "metadata": {
    "id": "yEtm97lVAFPl"
   },
   "source": [
    "<details>\n",
    "  <summary><h4><strong>Hint 1</strong></h4></summary>\n",
    "\n",
    "Build a `for` loop to iterate through `ip_addresses`. Be sure to start with the `for` keyword. Use `element` as the loop variable and use `in` as the loop condition.\n",
    "\n",
    "</details>"
   ]
  },
  {
   "cell_type": "markdown",
   "metadata": {
    "id": "hLGVwvuGAFPm"
   },
   "source": [
    "<details>\n",
    "  <summary><h4><strong>Hint 2</strong></h4></summary>\n",
    "\n",
    "To display the contents of a variable, pass it as an argument to the `print()` function.\n",
    "\n",
    "</details>"
   ]
  },
  {
   "cell_type": "markdown",
   "metadata": {
    "id": "BJ1SEHvrCHP5"
   },
   "source": [
    "## Task 6\n",
    "Now, build a conditional statement to remove the elements of `remove_list` from the `ip_addresses` list. The conditional statement should be placed inside the iterative statement that loops through `ip_addresses`. In every iteration, if the current element in the `ip_addresses` list is in the `remove_list`, the `remove()` method should be used to remove that element. \n",
    "\n",
    "Afterwards, display the updated `ip_addresses` list to verify that the elements of remove_list are no longer in the `ip_addresses`. Be sure to replace each `### YOUR CODE HERE ###` with your own code before you run the following cell.\n",
    "\n"
   ]
  },
  {
   "cell_type": "code",
   "execution_count": 12,
   "metadata": {
    "id": "hINEYp9pEZuy"
   },
   "outputs": [
    {
     "name": "stdout",
     "output_type": "stream",
     "text": [
      "['ip_address', '192.168.25.60', '192.168.205.12', '192.168.6.9', '192.168.52.90', '192.168.90.124', '192.168.186.176', '192.168.133.188', '192.168.203.198', '192.168.218.219', '192.168.52.37', '192.168.156.224', '192.168.60.153', '192.168.69.116']\n"
     ]
    }
   ],
   "source": [
    "# Assign `import_file` to the name of the file \n",
    "\n",
    "import_file = \"allow_list.txt\"\n",
    "\n",
    "# Assign `remove_list` to a list of IP addresses that are no longer allowed to access restricted information. \n",
    "\n",
    "remove_list = [\"192.168.97.225\", \"192.168.158.170\", \"192.168.201.40\", \"192.168.58.57\"]\n",
    "\n",
    "# Build `with` statement to read in the initial contents of the file\n",
    "\n",
    "with open(import_file, \"r\") as file:\n",
    "\n",
    "  # Use `.read()` to read the imported file and store it in a variable named `ip_addresses`\n",
    "\n",
    "  ip_addresses = file.read()\n",
    "\n",
    "# Use `.split()` to convert `ip_addresses` from a string to a list\n",
    "\n",
    "ip_addresses = ip_addresses.split()\n",
    "\n",
    "# Build iterative statement\n",
    "# Name loop variable `element`\n",
    "# Loop through `ip_addresses`\n",
    "\n",
    "for element in ip_addresses:\n",
    "  \n",
    "  # Build conditional statement\n",
    "  # If current element is in `remove_list`,\n",
    "  \n",
    "    if element in remove_list:\n",
    "\n",
    "        # then current element should be removed from `ip_addresses`\n",
    "\n",
    "        ip_addresses.remove(element)\n",
    "\n",
    "# Display `ip_addresses` \n",
    "\n",
    "print(ip_addresses)"
   ]
  },
  {
   "cell_type": "markdown",
   "metadata": {
    "id": "vo345gwoFYBZ"
   },
   "source": [
    "<details>\n",
    "  <summary><h4><strong>Hint 1</strong></h4></summary>\n",
    "\n",
    "When building the conditional statement, use the `in` operator to check if `element` is in `remove_list`. \n",
    "\n",
    "</details>"
   ]
  },
  {
   "cell_type": "markdown",
   "metadata": {
    "id": "NDPkfbp3FYBZ"
   },
   "source": [
    "<details>\n",
    "  <summary><h4><strong>Hint 2</strong></h4></summary>\n",
    "\n",
    "To remove `element` from `ip_addresses`, call the `.remove()` method on `ip_addresses`, and pass in `element`.\n",
    "\n",
    "</details>"
   ]
  },
  {
   "cell_type": "markdown",
   "metadata": {
    "id": "r8_PSeXMF7O2"
   },
   "source": [
    "<details>\n",
    "  <summary><h4><strong>Hint 3</strong></h4></summary>\n",
    "\n",
    "To remove `element` from `ip_addresses`, call `ip_addresses.remove()` and pass in `element`.\n",
    "\n",
    "</details>"
   ]
  },
  {
   "cell_type": "markdown",
   "metadata": {
    "id": "Y6tImjeD3h6L"
   },
   "source": [
    "## Task 7\n",
    "The next step is to update the original file that was used to create the `ip_addresses` list. A line of code containing the `.join()` method has been added to the code so that the file can be updated. This is necessary because `ip_addresses` must be in string format when used inside the `with` statement to rewrite the file.\n",
    "\n",
    "The `.join()` method takes in an iterable (such as a list) and concatenates every element of it into a string. The `.join()` method is applied to a string consisting of the character that will be used to separate every element in the iterable once its converted into a string. In the code below, the method is applied to the string `\" \"`, which contains just a space character. The argument of the `.join()` method is the iterable you want to convert, and in this case, that's `ip_addresses`. As a result, it converts `ip_addresses` from a list back into a string with a space between each element and the next.\n",
    "\n",
    "After this line with the `.join()` method, build the `with` statement that rewrites the original file. Use the `\"w\"` parameter when calling the `open()` function to delete the contents in the original file and replace it with what you want to write. Be sure to replace each `### YOUR CODE HERE ###` with your own code before you run the following cell. This code cell will not produce an output."
   ]
  },
  {
   "cell_type": "code",
   "execution_count": 13,
   "metadata": {
    "id": "kuCDsf-AHHLL"
   },
   "outputs": [],
   "source": [
    "# Assign `import_file` to the name of the file \n",
    "\n",
    "import_file = \"allow_list.txt\"\n",
    "\n",
    "# Assign `remove_list` to a list of IP addresses that are no longer allowed to access restricted information. \n",
    "\n",
    "remove_list = [\"192.168.97.225\", \"192.168.158.170\", \"192.168.201.40\", \"192.168.58.57\"]\n",
    "\n",
    "# Build `with` statement to read in the initial contents of the file\n",
    "\n",
    "with open(import_file, \"r\") as file:\n",
    "\n",
    "  # Use `.read()` to read the imported file and store it in a variable named `ip_addresses`\n",
    "\n",
    "  ip_addresses = file.read()\n",
    "\n",
    "# Use `.split()` to convert `ip_addresses` from a string to a list\n",
    "\n",
    "ip_addresses = ip_addresses.split()\n",
    "\n",
    "# Build iterative statement\n",
    "# Name loop variable `element`\n",
    "# Loop through `ip_addresses`\n",
    "\n",
    "for element in ip_addresses:\n",
    "  \n",
    "  # Build conditional statement\n",
    "  # If current element is in `remove_list`,\n",
    "  \n",
    "    if element in remove_list:\n",
    "\n",
    "        # then current element should be removed from `ip_addresses`\n",
    "\n",
    "        ip_addresses.remove(element)\n",
    "\n",
    "# Convert `ip_addresses` back to a string so that it can be written into the text file \n",
    "\n",
    "ip_addresses = \" \".join(ip_addresses)    \n",
    "\n",
    "# Build `with` statement to rewrite the original file\n",
    "\n",
    "with open(import_file, \"w\") as file:\n",
    "\n",
    "  # Rewrite the file, replacing its contents with `ip_addresses`\n",
    "\n",
    "  file.write(ip_addresses)"
   ]
  },
  {
   "cell_type": "markdown",
   "metadata": {
    "id": "XcVVj9ikHO_9"
   },
   "source": [
    "<details>\n",
    "  <summary><h4><strong>Hint 1</strong></h4></summary>\n",
    "\n",
    "To complete the first line of the `with` statement, call the `open()` function and pass in the name of the file as the first parameter and the letter `\"w\"` as the second parameter. \n",
    "\n",
    "The `\"w\"` parameter specifies that you're opening the file for the purpose of writing to it. \n",
    "\n",
    "</details>"
   ]
  },
  {
   "cell_type": "markdown",
   "metadata": {
    "id": "fC8HQty-HO_-"
   },
   "source": [
    "<details>\n",
    "  <summary><h4><strong>Hint 2</strong></h4></summary>\n",
    "\n",
    "Inside the `with` statement, call the `.write()` method to replace the contents of the file with the data stored in `ip_addresses`.\n",
    "\n",
    "</details>"
   ]
  },
  {
   "cell_type": "markdown",
   "metadata": {
    "id": "3t12UIDSHO_-"
   },
   "source": [
    "<details>\n",
    "  <summary><h4><strong>Hint 3</strong></h4></summary>\n",
    "\n",
    "Inside the `with` statement, call `file.write()` and pass in `ip_addresses`.\n",
    "\n",
    "</details>"
   ]
  },
  {
   "cell_type": "markdown",
   "metadata": {
    "id": "MPeELiLnJNMI"
   },
   "source": [
    "## Task 8\n",
    "In this task, you'll verify that the original file was rewritten using the correct list. \n",
    "\n",
    "Write another `with` statement, this time to read in the updated file. Start by opening the file. Then read the file and store its contents in the `text` variable. \n",
    "\n",
    "Afterwards, display the `text` variable to examine the result.\n",
    "\n",
    "Be sure to replace each `### YOUR CODE HERE ###` with your own code before you run the following cell."
   ]
  },
  {
   "cell_type": "code",
   "execution_count": 14,
   "metadata": {
    "id": "s0dlsfrPKd_q"
   },
   "outputs": [
    {
     "name": "stdout",
     "output_type": "stream",
     "text": [
      "ip_address 192.168.25.60 192.168.205.12 192.168.6.9 192.168.52.90 192.168.90.124 192.168.186.176 192.168.133.188 192.168.203.198 192.168.218.219 192.168.52.37 192.168.156.224 192.168.60.153 192.168.69.116\n"
     ]
    }
   ],
   "source": [
    "# Assign `import_file` to the name of the file \n",
    "\n",
    "import_file = \"allow_list.txt\"\n",
    "\n",
    "# Assign `remove_list` to a list of IP addresses that are no longer allowed to access restricted information. \n",
    "\n",
    "remove_list = [\"192.168.97.225\", \"192.168.158.170\", \"192.168.201.40\", \"192.168.58.57\"]\n",
    "\n",
    "# Build `with` statement to read in the initial contents of the file\n",
    "\n",
    "with open(import_file, \"r\") as file:\n",
    "\n",
    "  # Use `.read()` to read the imported file and store it in a variable named `ip_addresses`\n",
    "\n",
    "  ip_addresses = file.read()\n",
    "\n",
    "# Use `.split()` to convert `ip_addresses` from a string to a list\n",
    "\n",
    "ip_addresses = ip_addresses.split()\n",
    "\n",
    "# Build iterative statement\n",
    "# Name loop variable `element`\n",
    "# Loop through `ip_addresses`\n",
    "\n",
    "for element in ip_addresses:\n",
    "  \n",
    "  # Build conditional statement\n",
    "  # If current element is in `remove_list`,\n",
    "  \n",
    "    if element in remove_list:\n",
    "\n",
    "        # then current element should be removed from `ip_addresses`\n",
    "\n",
    "        ip_addresses.remove(element)\n",
    "\n",
    "# Convert `ip_addresses` back to a string so that it can be written into the text file \n",
    "\n",
    "ip_addresses = \" \".join(ip_addresses)       \n",
    "\n",
    "# Build `with` statement to rewrite the original file\n",
    "\n",
    "with open(import_file, \"w\") as file:\n",
    "\n",
    "  # Rewrite the file, replacing its contents with `ip_addresses`\n",
    "\n",
    "  file.write(ip_addresses)\n",
    "\n",
    "# Build `with` statement to read in the updated file\n",
    "\n",
    "with open(import_file, \"r\") as file:\n",
    "\n",
    "    # Read in the updated file and store the contents in `text`\n",
    "\n",
    "    text = file.read()\n",
    "\n",
    "# Display the contents of `text`\n",
    "\n",
    "print(text)"
   ]
  },
  {
   "cell_type": "markdown",
   "metadata": {
    "id": "gy2Q1UkUKmRz"
   },
   "source": [
    "<details>\n",
    "  <summary><h4><strong>Hint 1</strong></h4></summary>\n",
    "\n",
    "To complete the first line of the `with` statement, call the `open()` function and pass in the name of the file as the first parameter and the letter `\"r\"` as the second parameter. \n",
    "\n",
    "The `\"r\"` parameter specifies that you're opening the file for the purpose of reading it. \n",
    "\n",
    "</details>"
   ]
  },
  {
   "cell_type": "markdown",
   "metadata": {
    "id": "tAXScw4mKmRz"
   },
   "source": [
    "<details>\n",
    "  <summary><h4><strong>Hint 2</strong></h4></summary>\n",
    "\n",
    "Inside the `with` statement, call the `.read()` method to read the contents of the file. Assign the `text` variable to the result. \n",
    "\n",
    "</details>"
   ]
  },
  {
   "cell_type": "markdown",
   "metadata": {
    "id": "0tZZIM12K7rg"
   },
   "source": [
    "<details>\n",
    "  <summary><h4><strong>Hint 3</strong></h4></summary>\n",
    "\n",
    "To display the contents of a variable, pass it as an argument to the `print()` function.\n",
    "\n",
    "</details>"
   ]
  },
  {
   "cell_type": "markdown",
   "metadata": {
    "id": "R1WDqLt_K9U7"
   },
   "source": [
    "## Task 9\n",
    "The next step is to bring all of the code you've written leading up to this point and put it all into one function. \n",
    "\n",
    "Define a function named `update_file()` that takes in two parameters. The first parameter is the name of the text file that contains IP addresses (call this parameter `import_file`). The second parameter is a list that contains IP addresses to be removed (call this parameter `remove_list`).\n",
    "\n",
    "Be sure to replace the `### YOUR CODE HERE ###` with your own code before you run the following cell. Note that this code cell will not produce an output.\n",
    "\n"
   ]
  },
  {
   "cell_type": "code",
   "execution_count": 15,
   "metadata": {
    "id": "rmoz_SD4NBbj"
   },
   "outputs": [],
   "source": [
    "# Define a function named `update_file` that takes in two parameters: `import_file` and `remove_list`\n",
    "# and combines the steps you've written in this lab leading up to this\n",
    "\n",
    "def update_file(import_file, remove_list):\n",
    "\n",
    "    # Build `with` statement to read in the initial contents of the file\n",
    "\n",
    "    with open(import_file, \"r\") as file:\n",
    "\n",
    "        # Use `.read()` to read the imported file and store it in a variable named `ip_addresses`\n",
    "\n",
    "        ip_addresses = file.read()\n",
    "\n",
    "    # Use `.split()` to convert `ip_addresses` from a string to a list\n",
    "\n",
    "    ip_addresses = ip_addresses.split()\n",
    "\n",
    "    # Build iterative statement\n",
    "    # Name loop variable `element`\n",
    "    # Loop through `ip_addresses`\n",
    "\n",
    "    for element in ip_addresses:\n",
    "\n",
    "        # Build conditional statement\n",
    "        # If current element is in `remove_list`,\n",
    "\n",
    "        if element in remove_list:\n",
    "\n",
    "            # then current element should be removed from `ip_addresses`\n",
    "\n",
    "            ip_addresses.remove(element)\n",
    "\n",
    "    # Convert `ip_addresses` back to a string so that it can be written into the text file \n",
    "\n",
    "    ip_addresses = \" \".join(ip_addresses)       \n",
    "\n",
    "    # Build `with` statement to rewrite the original file\n",
    "\n",
    "    with open(import_file, \"w\") as file:\n",
    "\n",
    "        # Rewrite the file, replacing its contents with `ip_addresses`\n",
    "\n",
    "        file.write(ip_addresses)"
   ]
  },
  {
   "cell_type": "markdown",
   "metadata": {
    "id": "3VpUpR6Zey9V"
   },
   "source": [
    "<details>\n",
    "  <summary><h4><strong>Hint 1</strong></h4></summary>\n",
    "\n",
    "Use the `def` keyword to start the function definition. \n",
    "\n",
    "</details>"
   ]
  },
  {
   "cell_type": "markdown",
   "metadata": {
    "id": "uoGt3HqQey9f"
   },
   "source": [
    "<details>\n",
    "  <summary><h4><strong>Hint 2</strong></h4></summary>\n",
    "\n",
    "After the `def` keyword, specify the name of the function, followed by parantheses and a colon. Inside the parantheses, specify the parameters that the function takes in.\n",
    "\n",
    "</details>"
   ]
  },
  {
   "cell_type": "markdown",
   "metadata": {
    "id": "WxLVS38vhOxi"
   },
   "source": [
    "<details>\n",
    "  <summary><h4><strong>Hint 3</strong></h4></summary>\n",
    "\n",
    "After the `def` keyword, write `update_file(import_file, remove_list):` to complete the function definition header.\n",
    "\n",
    "</details>"
   ]
  },
  {
   "cell_type": "markdown",
   "metadata": {
    "id": "cD0hgjRLuS98"
   },
   "source": [
    "#### **Question 3**\n",
    "**What are the benefits of incorporating the algorithm into a single function?**"
   ]
  },
  {
   "cell_type": "markdown",
   "metadata": {
    "id": "Y5UWYLeDvPXh"
   },
   "source": [
    "can reuse it multiple times"
   ]
  },
  {
   "cell_type": "markdown",
   "metadata": {
    "id": "WM9ON3JkxcOL"
   },
   "source": [
    "## Task 10\n",
    "Finally, call the `update_file()` that you defined. Apply the function to `\"allow_list.txt\"` and pass in a list of IP addresses as the second argument.\n",
    "\n",
    "Use the following list of IP addresses as the second argument: \n",
    "\n",
    "`[\"192.168.25.60\", \"192.168.140.81\", \"192.168.203.198\"]`\n",
    "\n",
    "After the function call, use a `with` statement to read the contents of the allow list. Then display the contents of the allow list. Run it to verify that the file has been updated by the function.\n",
    "\n",
    "Be sure to replace the `### YOUR CODE HERE ###` with your own code before you run the following cell."
   ]
  },
  {
   "cell_type": "code",
   "execution_count": 17,
   "metadata": {
    "id": "YO87XukHRSC1"
   },
   "outputs": [
    {
     "name": "stdout",
     "output_type": "stream",
     "text": [
      "ip_address 192.168.25.60 192.168.205.12 192.168.6.9 192.168.52.90 192.168.90.124 192.168.186.176 192.168.133.188 192.168.203.198 192.168.218.219 192.168.52.37 192.168.156.224 192.168.60.153 192.168.69.116\n"
     ]
    }
   ],
   "source": [
    "# Define a function named `update_file` that takes in two parameters: `import_file` and `remove_list`\n",
    "# and combines the steps you've written in this lab leading up to this\n",
    "\n",
    "def update_file(import_file, remove_list):\n",
    "\n",
    "  # Build `with` statement to read in the initial contents of the file\n",
    "\n",
    "  with open(import_file, \"r\") as file:\n",
    "\n",
    "    # Use `.read()` to read the imported file and store it in a variable named `ip_addresses`\n",
    "\n",
    "    ip_addresses = file.read()\n",
    "\n",
    "  # Use `.split()` to convert `ip_addresses` from a string to a list\n",
    "\n",
    "  ip_addresses = ip_addresses.split()\n",
    "\n",
    "  # Build iterative statement\n",
    "  # Name loop variable `element`\n",
    "  # Loop through `ip_addresses`\n",
    "\n",
    "  for element in ip_addresses:\n",
    "    \n",
    "    # Build conditional statement\n",
    "    # If current element is in `remove_list`,\n",
    "    \n",
    "    if element in remove_list:\n",
    "\n",
    "      # then current element should be removed from `ip_addresses`\n",
    "\n",
    "      ip_addresses.remove(element)\n",
    "\n",
    "  # Convert `ip_addresses` back to a string so that it can be written into the text file \n",
    "\n",
    "  ip_addresses = \" \".join(ip_addresses)       \n",
    "\n",
    "  # Build `with` statement to rewrite the original file\n",
    "\n",
    "  with open(import_file, \"w\") as file:\n",
    "\n",
    "    # Rewrite the file, replacing its contents with `ip_addresses`\n",
    "\n",
    "    file.write(ip_addresses)\n",
    "\n",
    "# Call `update_file()` and pass in \"allow_list.txt\" and a list of IP addresses to be removed\n",
    "\n",
    "update_file(\"allow_list.txt\", remove_list)\n",
    "\n",
    "# Build `with` statement to read in the updated file\n",
    "\n",
    "with open(\"allow_list.txt\", \"r\") as file:\n",
    "\n",
    "  # Read in the updated file and store the contents in `text`\n",
    "\n",
    "  text = file.read()\n",
    "\n",
    "# Display the contents of `text`\n",
    "\n",
    "print(text)"
   ]
  },
  {
   "cell_type": "markdown",
   "metadata": {
    "id": "UoVsVe37RkfT"
   },
   "source": [
    "<details>\n",
    "  <summary><h4><strong>Hint 1</strong></h4></summary>\n",
    "\n",
    "To call the `update_file()` function, write the name of the function, followed by parantheses, and pass in the file name and list of IP addresses that you want to try out the function on. Be sure to separate the two arguments with a comma (`,`). \n",
    "\n",
    "</details>"
   ]
  },
  {
   "cell_type": "markdown",
   "metadata": {
    "id": "CFB8ClVxRkfU"
   },
   "source": [
    "<details>\n",
    "  <summary><h4><strong>Hint 2</strong></h4></summary>\n",
    "\n",
    "Inside the `with` statement, call the `.read()` method to read the contents of the file. Assign the `text` variable to the result. \n",
    "\n",
    "</details>"
   ]
  },
  {
   "cell_type": "markdown",
   "metadata": {
    "id": "pPpQTn_uRkfU"
   },
   "source": [
    "<details>\n",
    "  <summary><h4><strong>Hint 3</strong></h4></summary>\n",
    "\n",
    "To display the contents of the `text` variable, pass it as an argument to the `print()` function.\n",
    "\n",
    "</details>"
   ]
  },
  {
   "cell_type": "markdown",
   "metadata": {
    "id": "ru2ytGBLCh4q"
   },
   "source": [
    "## Conclusion\n",
    "\n",
    "**What are your key takeaways from this lab?**"
   ]
  },
  {
   "cell_type": "markdown",
   "metadata": {
    "id": "ls2WEGqsiSAd"
   },
   "source": [
    "how to convert strings to list and back to strings\n",
    "\n",
    "remove items from lists\n",
    "\n",
    "how to separate items in strings using split",
    "\n",
    "- Python has functions and syntax that help you import and parse text files.
  - The `with` statement allows you to efficiently handle files.
  - The `open()` function allows you to import or open a file. It takes in the name of the file as the first parameter and a string that indicates the purpose of opening the file as the second parameter.
    - Specify `"r"` as the second parameter if you're opening the file for reading purposes.
    - Specify `"w"` as the second parameter if you're opening the file for writing purposes.
  - The `.read()` method allows you to read in a file. 
  - The `.write()` method allows you to append or write to a file.
- You can use a `for` loop to iterate over a list.
- You can use an `if` statement to check if a given value is in a list and execute a specific action if so.
- You can use the `.split()` method to convert a string to a list.
- You can use Python to compare contents of a text file against elements of a list.
- Algorithms can be incorporated into functions. When defining a function, you must specify the parameters it takes in and the actions it should execute."
   ]
  },
  {
   "cell_type": "code",
   "execution_count": null,
   "metadata": {},
   "outputs": [],
   "source": []
  }
 ],
 "metadata": {
  "colab": {
   "provenance": [],
   "toc_visible": true
  },
  "kernelspec": {
   "display_name": "Python 3",
   "language": "python",
   "name": "python3"
  },
  "language_info": {
   "codemirror_mode": {
    "name": "ipython",
    "version": 3
   },
   "file_extension": ".py",
   "mimetype": "text/x-python",
   "name": "python",
   "nbconvert_exporter": "python",
   "pygments_lexer": "ipython3",
   "version": "3.7.6"
  }
 },
 "nbformat": 4,
 "nbformat_minor": 1
}
