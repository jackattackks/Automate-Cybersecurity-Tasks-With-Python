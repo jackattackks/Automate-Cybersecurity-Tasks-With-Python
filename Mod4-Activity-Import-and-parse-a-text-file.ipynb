{
 "cells": [
  {
   "cell_type": "markdown",
   "metadata": {
    "id": "BTj1ga3Gxuxe"
   },
   "source": [
    "# Activity: Import and parse a text file"
   ]
  },
  {
   "cell_type": "markdown",
   "metadata": {
    "id": "ivt8p77hCKcO"
   },
   "source": [
    "## Introduction\n",
    "\n",
    "Security logs are often stored in text files. To analyze the security logs in these files, security analysts have to import and parse these files. Python has some functions that come in handy for these tasks, allowing analysts to efficiently access information from text files. \n",
    "\n",
    "In this lab, you'll practice using functions and other syntax in Python to import and parse text files.\n",
    "\n",
    "**Note:** *Have you already completed this lab once?* Due to how Coursera handles files, you will need to reset the `login.txt\"` file used in this lab to its original contents if you want to complete this lab more than once. The [File contents reset](#file_contents_reset) section at the end of this notebook contains code that allows you to reset the `login.txt\"` file to its original contents. After you have run the code in that section, you can begin the lab again."
   ]
  },
  {
   "cell_type": "markdown",
   "metadata": {
    "id": "eW4pA4LsC-vb"
   },
   "source": [
    "<details><summary><h2>Tips for completing this lab</h2></summary>\n",
    "\n",
    "As you navigate this lab, keep the following tips in mind:\n",
    "\n",
    "- `### YOUR CODE HERE ###` indicates where you should write code. Be sure to replace this with your own code before running the code cell.\n",
    "- Feel free to open the hints for additional guidance as you work on each task. \n",
    "- To enter your answer to a question, double-click the markdown cell to edit. Be sure to replace the \"[Double-click to enter your responses here.]\" with your own answer.\n",
    "- You can save your work manually by clicking File and then Save in the menu bar at the top of the notebook. \n",
    "- You can download your work locally by clicking File and then Download and then specifying your preferred file format in the menu bar at the top of the notebook. \n",
    "</details>"
   ]
  },
  {
   "cell_type": "markdown",
   "metadata": {
    "id": "dQ2elTOeCMNv"
   },
   "source": [
    "## Scenario\n",
    "\n",
    "In this lab, you're working as a security analyst. You're responsible for preparing a security log file for analysis and creating a text file with IP addresses that are allowed to access restricted information."
   ]
  },
  {
   "cell_type": "markdown",
   "metadata": {
    "id": "8lEFzu64x8T1"
   },
   "source": [
    "## Task 1\n",
    "In this task, you'll import a security log text file and store it as a string to prepare it for analysis. \n",
    "\n",
    "In Python, a `with` statement is often used in file handling to open a file and then automatically close the file after reading it.\n",
    "\n",
    "You're given a variable named `import_file` that contains the name of the log file that you want to import. Start by writing the first line of the `with` statement in the following code cell. Use the `open()` function, setting the second parameter to `\"r\"`. Note that running this code will produce an error because it will only contain the first line of the `with` statement; you'll complete this `with` statement in the task after this. Be sure to replace the `### YOUR CODE HERE ###` with your own code."
   ]
  },
  {
   "cell_type": "code",
   "execution_count": 45,
   "metadata": {
    "id": "mDSFWg1nC7Qc"
   },
   "outputs": [
    {
     "ename": "SyntaxError",
     "evalue": "unexpected EOF while parsing (<ipython-input-45-dd8ccf6ed2a3>, line 8)",
     "output_type": "error",
     "traceback": [
      "\u001b[0;36m  File \u001b[0;32m\"<ipython-input-45-dd8ccf6ed2a3>\"\u001b[0;36m, line \u001b[0;32m8\u001b[0m\n\u001b[0;31m    with open(import_file, \"r\") as file:\u001b[0m\n\u001b[0m                                        ^\u001b[0m\n\u001b[0;31mSyntaxError\u001b[0m\u001b[0;31m:\u001b[0m unexpected EOF while parsing\n"
     ]
    }
   ],
   "source": [
    "# Assign `import_file` to the name of the text file that contains the security log file\n",
    "\n",
    "import_file = \"login.txt\"\n",
    "\n",
    "# First line of the `with` statement\n",
    "# Use `open()` to import security log file and store it as a string\n",
    "\n",
    "with open(import_file, \"r\") as file:"
   ]
  },
  {
   "cell_type": "markdown",
   "metadata": {
    "id": "N4iCk5h-BEW4"
   },
   "source": [
    "<details>\n",
    "  <summary><h4><strong>Hint 1</strong></h4></summary>\n",
    "\n",
    "The `open()` function in Python allows you to open a file.\n",
    "\n",
    "As the first parameter, it takes in the name of the file (or a variable containing the name of the file). As the second parameter, it takes in a string that indicates how the file should be handled.\n",
    "\n",
    "Pass in the letter `\"r\"` as the second argument when you want to read the file.\n",
    "\n",
    "</details>"
   ]
  },
  {
   "cell_type": "markdown",
   "metadata": {
    "id": "V2viFcW0FIID"
   },
   "source": [
    "<details>\n",
    "  <summary><h4><strong>Hint 2</strong></h4></summary>\n",
    "\n",
    "The `import_file` variable contains the name of the file that you want to open, so that should be the first argument you pass in to the `open()` function. \n",
    "\n",
    "Since you also want to read the contents of the file, you should pass in `\"r\"` as the second argument. \n",
    "\n",
    "Make sure to use a comma (`,`) to separate the two arguments.\n",
    "\n",
    "</details>"
   ]
  },
  {
   "cell_type": "markdown",
   "metadata": {
    "id": "T5G87NJGFmuv"
   },
   "source": [
    "## Task 2\n",
    "Now, you'll use the `.read()` method to read the imported file, and you'll store the result in a variable named `text`. Afterwards, display the `text` and explore what it contains by running the cell. Be sure to replace the `### YOUR CODE HERE ###` with your own code before you run the following cell.\n"
   ]
  },
  {
   "cell_type": "code",
   "execution_count": 46,
   "metadata": {
    "id": "LiUPiKKnGZE2"
   },
   "outputs": [
    {
     "name": "stdout",
     "output_type": "stream",
     "text": [
      "username,ip_address,time,date\n",
      "tshah,192.168.92.147,15:26:08,2022-05-10\n",
      "dtanaka,192.168.98.221,9:45:18,2022-05-09\n",
      "tmitchel,192.168.110.131,14:13:41,2022-05-11\n",
      "daquino,192.168.168.144,7:02:35,2022-05-08\n",
      "eraab,192.168.170.243,1:45:14,2022-05-11\n",
      "jlansky,192.168.238.42,1:07:11,2022-05-11\n",
      "acook,192.168.52.90,9:56:48,2022-05-10\n",
      "asundara,192.168.58.217,23:17:52,2022-05-12\n",
      "jclark,192.168.214.49,20:49:00,2022-05-10\n",
      "cjackson,192.168.247.153,19:36:42,2022-05-12\n",
      "jclark,192.168.197.247,14:11:04,2022-05-12\n",
      "apatel,192.168.46.207,17:39:42,2022-05-10\n",
      "mabadi,192.168.96.244,10:24:43,2022-05-12\n",
      "iuduike,192.168.131.147,17:50:00,2022-05-11\n",
      "abellmas,192.168.60.111,13:37:05,2022-05-10\n",
      "gesparza,192.168.148.80,6:30:14,2022-05-11\n",
      "cgriffin,192.168.4.157,23:04:05,2022-05-09\n",
      "alevitsk,192.168.210.228,8:10:43,2022-05-08\n",
      "eraab,192.168.24.12,11:29:27,2022-05-11\n",
      "jsoto,192.168.25.60,5:09:21,2022-05-09\n",
      "\n"
     ]
    }
   ],
   "source": [
    "# Assign `import_file` to the name of the text file that contains the security log file\n",
    "\n",
    "import_file = \"login.txt\"\n",
    "\n",
    "# The `with` statement\n",
    "# Use `open()` to import security log file and store it as a string\n",
    "\n",
    "with open(import_file, \"r\") as file:\n",
    "\n",
    "  # Use `.read()` to read the imported file and store the result in a variable named `text`\n",
    "\n",
    "  text = file.read()\n",
    "\n",
    "# Display the contents of `text`\n",
    "\n",
    "print(text)"
   ]
  },
  {
   "cell_type": "markdown",
   "metadata": {
    "id": "TuMsRoZTHJqb"
   },
   "source": [
    "<details>\n",
    "  <summary><h4><strong>Hint 1</strong></h4></summary>\n",
    "\n",
    "The `.read()` method in Python converts text files to strings. \n",
    "\n",
    "</details>"
   ]
  },
  {
   "cell_type": "markdown",
   "metadata": {
    "id": "hZYf2YUUbpHP"
   },
   "source": [
    "<details>\n",
    "  <summary><h4><strong>Hint 2</strong></h4></summary>\n",
    "\n",
    "The `file` object contains the file that you want to read, so apply the `.read()` method to `file`.\n",
    "\n",
    "</details>"
   ]
  },
  {
   "cell_type": "markdown",
   "metadata": {
    "id": "sv4c2jpbHJqk"
   },
   "source": [
    "<details>\n",
    "  <summary><h4><strong>Hint 3</strong></h4></summary>\n",
    "\n",
    "Use the `print()` function to display the contents of `text`.\n",
    "\n",
    "</details>"
   ]
  },
  {
   "cell_type": "markdown",
   "metadata": {
    "id": "SnDwmUR1IcaA"
   },
   "source": [
    "## Task 3\n",
    "The output in the previous step is one big string. In this task, you'll explore how you can split the string that contains the entire imported log file into a list of strings, one string per line. \n",
    "\n",
    "Use the  `.split()` method to perform this split and then display the result. Be sure to replace the `### YOUR CODE HERE ###` with your own code before you run the following cell. \n",
    "\n",
    "Note that displaying `.split()` doesn’t change what is stored in the `text` variable. Variable reassignment would be necessary if you want to store the result after splitting."
   ]
  },
  {
   "cell_type": "code",
   "execution_count": 47,
   "metadata": {
    "id": "9VMf3LGzQl8-"
   },
   "outputs": [
    {
     "name": "stdout",
     "output_type": "stream",
     "text": [
      "['username', 'ip_address', 'time', 'date\\ntshah', '192.168.92.147', '15:26:08', '2022-05-10\\ndtanaka', '192.168.98.221', '9:45:18', '2022-05-09\\ntmitchel', '192.168.110.131', '14:13:41', '2022-05-11\\ndaquino', '192.168.168.144', '7:02:35', '2022-05-08\\neraab', '192.168.170.243', '1:45:14', '2022-05-11\\njlansky', '192.168.238.42', '1:07:11', '2022-05-11\\nacook', '192.168.52.90', '9:56:48', '2022-05-10\\nasundara', '192.168.58.217', '23:17:52', '2022-05-12\\njclark', '192.168.214.49', '20:49:00', '2022-05-10\\ncjackson', '192.168.247.153', '19:36:42', '2022-05-12\\njclark', '192.168.197.247', '14:11:04', '2022-05-12\\napatel', '192.168.46.207', '17:39:42', '2022-05-10\\nmabadi', '192.168.96.244', '10:24:43', '2022-05-12\\niuduike', '192.168.131.147', '17:50:00', '2022-05-11\\nabellmas', '192.168.60.111', '13:37:05', '2022-05-10\\ngesparza', '192.168.148.80', '6:30:14', '2022-05-11\\ncgriffin', '192.168.4.157', '23:04:05', '2022-05-09\\nalevitsk', '192.168.210.228', '8:10:43', '2022-05-08\\neraab', '192.168.24.12', '11:29:27', '2022-05-11\\njsoto', '192.168.25.60', '5:09:21', '2022-05-09\\n']\n"
     ]
    }
   ],
   "source": [
    "# Assign `import_file` to the name of the text file that contains the security log file\n",
    "\n",
    "import_file = \"login.txt\"\n",
    "\n",
    "# The `with` statement\n",
    "# Use `open()` to import security log file and store it as a string\n",
    "\n",
    "with open(import_file, \"r\") as file:\n",
    "\n",
    "  # Use `.read()` to read the imported file and store the result in a variable named `text`\n",
    "\n",
    "  text = file.read()\n",
    "\n",
    "# Display the contents of `text` split into separate lines \n",
    "# print(text)\n",
    "print(text.split(\",\"))"
   ]
  },
  {
   "cell_type": "markdown",
   "metadata": {
    "id": "izaB2i1XRo_h"
   },
   "source": [
    "<details>\n",
    "  <summary><h4><strong>Hint 1</strong></h4></summary>\n",
    "\n",
    "The `.split()` method in Python converts a string into a list. It can take in a separator character that specifies which character to split on. If a character is not specified, it will split on whitespace by default. This default will work well for your task, since the log file contains whitespace between each line in the log. \n",
    "\n",
    "Note that whitespace includes any space between text on the same line and the space between one line and the next line.\n",
    "\n",
    "</details>"
   ]
  },
  {
   "cell_type": "markdown",
   "metadata": {
    "id": "lEn8WmKARo_j"
   },
   "source": [
    "<details>\n",
    "  <summary><h4><strong>Hint 2</strong></h4></summary>\n",
    "\n",
    "Use the `.split()` method to convert the `text` into a list, where each element in the list represents a line in the log file.\n",
    "\n",
    "Place this between the parantheses in the `print()` function call.\n",
    "\n",
    "</details>"
   ]
  },
  {
   "cell_type": "markdown",
   "metadata": {
    "id": "DC2uOLAON0BW"
   },
   "source": [
    "#### **Question 1**\n",
    "**What do you notice about the output before and after using the `.split()` method?**"
   ]
  },
  {
   "cell_type": "markdown",
   "metadata": {
    "id": "D_TIeLkYN6gv"
   },
   "source": [
    "converts from a string to a list. I chose to split on the comma instead of the white space for readability purposes."
   ]
  },
  {
   "cell_type": "markdown",
   "metadata": {
    "id": "1urIMObnTOA_"
   },
   "source": [
    "## Task 4\n",
    "There is a missing entry in the log file. You'll need to account for that by appending it to the log file. You're given the missing entry stored in a variable named `missing_entry`. \n",
    "\n",
    "Use the `.write()` method and the parameter `\"a\"` in the `open()` function. Be sure to replace each `### YOUR CODE HERE ###` with your own code before you run the following cell.\n",
    "\n",
    "After the portion of the code that writes to the file, another with statement uses the `.read()` method to read the updated file into the `text` variable and then display it."
   ]
  },
  {
   "cell_type": "code",
   "execution_count": 48,
   "metadata": {
    "id": "QTpKEAl1Wscq"
   },
   "outputs": [
    {
     "name": "stdout",
     "output_type": "stream",
     "text": [
      "username,ip_address,time,date\n",
      "tshah,192.168.92.147,15:26:08,2022-05-10\n",
      "dtanaka,192.168.98.221,9:45:18,2022-05-09\n",
      "tmitchel,192.168.110.131,14:13:41,2022-05-11\n",
      "daquino,192.168.168.144,7:02:35,2022-05-08\n",
      "eraab,192.168.170.243,1:45:14,2022-05-11\n",
      "jlansky,192.168.238.42,1:07:11,2022-05-11\n",
      "acook,192.168.52.90,9:56:48,2022-05-10\n",
      "asundara,192.168.58.217,23:17:52,2022-05-12\n",
      "jclark,192.168.214.49,20:49:00,2022-05-10\n",
      "cjackson,192.168.247.153,19:36:42,2022-05-12\n",
      "jclark,192.168.197.247,14:11:04,2022-05-12\n",
      "apatel,192.168.46.207,17:39:42,2022-05-10\n",
      "mabadi,192.168.96.244,10:24:43,2022-05-12\n",
      "iuduike,192.168.131.147,17:50:00,2022-05-11\n",
      "abellmas,192.168.60.111,13:37:05,2022-05-10\n",
      "gesparza,192.168.148.80,6:30:14,2022-05-11\n",
      "cgriffin,192.168.4.157,23:04:05,2022-05-09\n",
      "alevitsk,192.168.210.228,8:10:43,2022-05-08\n",
      "eraab,192.168.24.12,11:29:27,2022-05-11\n",
      "jsoto,192.168.25.60,5:09:21,2022-05-09\n",
      "jrafael,192.168.243.140,4:56:27,2022-05-09\n"
     ]
    }
   ],
   "source": [
    "# Assign `import_file` to the name of the text file that contains the security log file\n",
    "\n",
    "import_file = \"login.txt\"\n",
    "\n",
    "\n",
    "# Assign `missing entry` to a log that was not recorded in the log file\n",
    "\n",
    "missing_entry = \"jrafael,192.168.243.140,4:56:27,2022-05-09\"\n",
    "\n",
    "# Use `open()` to import security log file and store it as a string\n",
    "# Pass in \"a\" as the second parameter to indicate that the file is being opened for appending purposes\n",
    "\n",
    "with open(import_file, \"a\") as file:\n",
    "\n",
    "    # Use `.write()` to append `missing_entry` to the log file\n",
    "\n",
    "    file.write(missing_entry)\n",
    "\n",
    "# Use `open()` with the parameter \"r\" to open the security log file for reading purposes\n",
    "\n",
    "with open(import_file, \"r\") as file:\n",
    "\n",
    "    # Use `.read()` to read in the contents of the log file and store in a variable named `text`\n",
    "\n",
    "    text = file.read()\n",
    "\n",
    "# Display the contents of `text`\n",
    "\n",
    "print(text)"
   ]
  },
  {
   "cell_type": "markdown",
   "metadata": {
    "id": "UUGPJFRzW786"
   },
   "source": [
    "<details>\n",
    "  <summary><h4><strong>Hint 1</strong></h4></summary>\n",
    "\n",
    "The `open()` function in Python allows you to open a file. \n",
    "\n",
    "As the first parameter, it takes in the name of the file (or a variable containing the name of the file). As the second parameter, it takes in a string that indicates how the file should be handled.\n",
    "\n",
    "Pass in the letter `\"a\"` as the second parameter when you want to append the file.\n",
    "\n",
    "</details>"
   ]
  },
  {
   "cell_type": "markdown",
   "metadata": {
    "id": "y1u-m2SEW787"
   },
   "source": [
    "<details>\n",
    "  <summary><h4><strong>Hint 2</strong></h4></summary>\n",
    "\n",
    "Call the `.write()` method on the log file and pass in `missing_entry`. This will append `missing_entry` to the log file. \n",
    "\n",
    "</details>"
   ]
  },
  {
   "cell_type": "markdown",
   "metadata": {
    "id": "fBK1r6EnX4KG"
   },
   "source": [
    "<details>\n",
    "  <summary><h4><strong>Hint 3</strong></h4></summary>\n",
    "\n",
    "Call `file.write()` and pass in `missing_entry`. This will append `missing_entry` to the log file. \n",
    "\n",
    "</details>"
   ]
  },
  {
   "cell_type": "markdown",
   "metadata": {
    "id": "jQfXi8r1pth1"
   },
   "source": [
    "#### **Question 2**\n",
    "**What do you notice about the position of the entry that was added to the log file?**"
   ]
  },
  {
   "cell_type": "markdown",
   "metadata": {
    "id": "FF6YaeEOqC86"
   },
   "source": [
    "gets added to the end each time it runs"
   ]
  },
  {
   "cell_type": "markdown",
   "metadata": {
    "id": "uXAdgPsGdYDY"
   },
   "source": [
    "## Task 5\n",
    "The next task you're responsible for is creating a text file. This text file should include a list of IP addresses that are allowed to access restricted information. Documenting this in a text file will help you communicate your findings to your security team. \n",
    "\n",
    "Start by creating a variable named `import_file` that stores the name of the file, which should be `\"allow_list.txt\"`. \n",
    "\n",
    "You're also given a variable named `ip_addresses` that stores a string containing the IP addresses that are allowed.\n",
    "\n",
    "Run the code to display the two variables and explore what they contain. Be sure to replace the `### YOUR CODE HERE ###` with your own code before you run the following cell. "
   ]
  },
  {
   "cell_type": "code",
   "execution_count": 32,
   "metadata": {
    "id": "1UxwR4Mdf4SN"
   },
   "outputs": [
    {
     "name": "stdout",
     "output_type": "stream",
     "text": [
      "allow_list.txt\n",
      "192.168.218.160 192.168.97.225 192.168.145.158 192.168.108.13 192.168.60.153 192.168.96.200 192.168.247.153 192.168.3.252 192.168.116.187 192.168.15.110 192.168.39.246\n"
     ]
    }
   ],
   "source": [
    "# Assign `import_file` to the name of the text file that you want to create\n",
    "\n",
    "import_file = \"allow_list.txt\"\n",
    "\n",
    "# Assign `ip_addresses` to a list of IP addresses that are allowed to access the restricted information\n",
    "\n",
    "ip_addresses = \"192.168.218.160 192.168.97.225 192.168.145.158 192.168.108.13 192.168.60.153 192.168.96.200 192.168.247.153 192.168.3.252 192.168.116.187 192.168.15.110 192.168.39.246\"\n",
    "\n",
    "# Display `import_file`\n",
    "\n",
    "print(import_file)\n",
    "\n",
    "# Display `ip_addresses`\n",
    "\n",
    "print(ip_addresses)"
   ]
  },
  {
   "cell_type": "markdown",
   "metadata": {
    "id": "D75K_yO-gzI3"
   },
   "source": [
    "<details>\n",
    "  <summary><h4><strong>Hint 1</strong></h4></summary>\n",
    "\n",
    "Keep in mind that the name of the text file you want to create should be `\"allow_list.txt\"`. Make sure to include the `.txt` file extension, which specifies the file format.\n",
    "\n",
    "</details>"
   ]
  },
  {
   "cell_type": "markdown",
   "metadata": {
    "id": "twOTzdiOhoA6"
   },
   "source": [
    "## Task 6\n",
    "Your next goal is to create a `with` statement in order to write the IP addresses to the text file you created in the previous step. \n",
    "\n",
    "You'll first open the file using the `\"w\"` parameter. Then, you'll write the IP addresses to the file. Be sure to replace each `### YOUR CODE HERE ###` with your own code before you run the following cell. Note that the code cell will contain a `with` statement that writes to a file but does not display information to the screen, so running it will not produce an output."
   ]
  },
  {
   "cell_type": "code",
   "execution_count": 38,
   "metadata": {
    "id": "c8JJxAYvkHuG"
   },
   "outputs": [],
   "source": [
    "# Assign `import_file` to the name of the text file that you want to create\n",
    "\n",
    "import_file = \"allow_list.txt\"\n",
    "\n",
    "# Assign `ip_addresses` to a list of IP addresses that are allowed to access the restricted information\n",
    "\n",
    "ip_addresses = \"192.168.218.160 192.168.97.225 192.168.145.158 192.168.108.13 192.168.60.153 192.168.96.200 192.168.247.153 192.168.3.252 192.168.116.187 192.168.15.110 192.168.39.246\"\n",
    "\n",
    "# Create a `with` statement to write to the text file \n",
    "\n",
    "with open(import_file, \"w\") as file:\n",
    "\n",
    "  # Write `ip_addresses` to the text file\n",
    "  text = file.write(ip_addresses)\n",
    "    "
   ]
  },
  {
   "cell_type": "markdown",
   "metadata": {
    "id": "wbguTQP0kVe3"
   },
   "source": [
    "<details>\n",
    "  <summary><h4><strong>Hint 1</strong></h4></summary>\n",
    "\n",
    "The `open()` function in Python allows you to open a file. \n",
    "\n",
    "As the first parameter, it takes in the name of the file (or a variable containing the name of the file). As the second parameter, it takes in a string that indicates how the file should be handled.  \n",
    "\n",
    "Pass in the letter `\"w\"` as the second parameter when you're opening a file for the purpose of writing to it.\n",
    "\n",
    "</details>"
   ]
  },
  {
   "cell_type": "markdown",
   "metadata": {
    "id": "oI2L1RTUkVe4"
   },
   "source": [
    "<details>\n",
    "  <summary><h4><strong>Hint 2</strong></h4></summary>\n",
    "\n",
    "Call the `.write()` method on the text file to write to it. \n",
    "\n",
    "</details>"
   ]
  },
  {
   "cell_type": "markdown",
   "metadata": {
    "id": "k9kYhdtakxbF"
   },
   "source": [
    "<details>\n",
    "  <summary><h4><strong>Hint 3</strong></h4></summary>\n",
    "\n",
    "Call the `file.write()` method and pass in the `ip_addresses` variable to write the contents of that variable to the text file.\n",
    "\n",
    "</details>"
   ]
  },
  {
   "cell_type": "markdown",
   "metadata": {
    "id": "gBEIpHZQiDA5"
   },
   "source": [
    "## Task 7\n",
    "In this final step, you'll complete the code you've been writing up to this point. You'll add code to read the file containing IP addresses.\n",
    "\n",
    "Complete a `with` statement that reads the text file and stores it in a new variable called `text`. \n",
    "\n",
    "Afterwards, display the contents of `text` and run the cell to explore the result. Be sure to replace each `### YOUR CODE HERE ###` with your own code before you run the following cell. "
   ]
  },
  {
   "cell_type": "code",
   "execution_count": 41,
   "metadata": {
    "id": "_gRyZCDhmcn8"
   },
   "outputs": [
    {
     "name": "stdout",
     "output_type": "stream",
     "text": [
      "192.168.218.160 192.168.97.225 192.168.145.158 192.168.108.13 192.168.60.153 192.168.96.200 192.168.247.153 192.168.3.252 192.168.116.187 192.168.15.110 192.168.39.246\n"
     ]
    }
   ],
   "source": [
    "# Assign `import_file` to the name of the text file that you want to create\n",
    "\n",
    "import_file = \"allow_list.txt\"\n",
    "\n",
    "# Assign `ip_addresses` to a list of IP addresses that are allowed to access the restricted information\n",
    "\n",
    "ip_addresses = \"192.168.218.160 192.168.97.225 192.168.145.158 192.168.108.13 192.168.60.153 192.168.96.200 192.168.247.153 192.168.3.252 192.168.116.187 192.168.15.110 192.168.39.246\"\n",
    "\n",
    "# Create a `with` statement to write to the text file \n",
    "\n",
    "with open(import_file, \"w\") as file:\n",
    "\n",
    "    # Write `ip_addresses` to the text file\n",
    "\n",
    "    file.write(ip_addresses)\n",
    "\n",
    "# Create a `with` statement to read in the text file \n",
    "\n",
    "with open(import_file, \"r\") as file:\n",
    "\n",
    "    # Read the file and store the result in a variable named `text`\n",
    "\n",
    "    text = file.read()\n",
    "\n",
    "# Display the contents of `text`\n",
    "\n",
    "print(text)"
   ]
  },
  {
   "cell_type": "markdown",
   "metadata": {
    "id": "lRheuh50mq4X"
   },
   "source": [
    "<details>\n",
    "  <summary><h4><strong>Hint 1</strong></h4></summary>\n",
    "\n",
    "The `open()` function in Python allows you to open a file. \n",
    "\n",
    "As the first parameter, it takes in the name of the file (or a variable containing the name of the file). As the second parameter, it takes in a string that indicates how the file should be handled.   \n",
    "\n",
    "Pass in the letter `\"r\"` as the second parameter when you're opening a file for the purpose of reading in its contents.\n",
    "\n",
    "</details>"
   ]
  },
  {
   "cell_type": "markdown",
   "metadata": {
    "id": "fqoe1A9jmq4Y"
   },
   "source": [
    "<details>\n",
    "  <summary><h4><strong>Hint 2</strong></h4></summary>\n",
    "\n",
    "Call the `.read()` method on the text file to read it in.\n",
    "\n",
    "</details>"
   ]
  },
  {
   "cell_type": "markdown",
   "metadata": {
    "id": "Hr2Tjx7UAqNs"
   },
   "source": [
    "<details>\n",
    "  <summary><h4><strong>Hint 3</strong></h4></summary>\n",
    "\n",
    "Call `file.read()`. Place this to the right of the `=` operator to assign the output to the `text` variable. \n",
    "\n",
    "</details>"
   ]
  },
  {
   "cell_type": "markdown",
   "metadata": {
    "id": "ru2ytGBLCh4q"
   },
   "source": [
    "## Conclusion\n",
    "\n",
    "**What are your key takeaways from this lab?**"
   ]
  },
  {
   "cell_type": "markdown",
   "metadata": {
    "id": "ls2WEGqsiSAd"
   },
   "source": [
    "how to write into a file and the read it with the changes"
   ]
  },
  {
   "cell_type": "markdown",
   "metadata": {},
   "source": [
    "<a id=\"file_contents_reset\"></a>"
   ]
  },
  {
   "cell_type": "markdown",
   "metadata": {},
   "source": [
    "## File contents reset"
   ]
  },
  {
   "cell_type": "markdown",
   "metadata": {},
   "source": [
    "You can run the following code to reset the `\"login.txt\"` file to its original contents. Because of how Coursera handles files, this will be necessary if you wish to complete this lab more than once or if you have unintentionally changed the file in a way that does not correspond to the lab tasks."
   ]
  },
  {
   "cell_type": "code",
   "execution_count": 43,
   "metadata": {},
   "outputs": [
    {
     "name": "stdout",
     "output_type": "stream",
     "text": [
      "username,ip_address,time,date\n",
      "tshah,192.168.92.147,15:26:08,2022-05-10\n",
      "dtanaka,192.168.98.221,9:45:18,2022-05-09\n",
      "tmitchel,192.168.110.131,14:13:41,2022-05-11\n",
      "daquino,192.168.168.144,7:02:35,2022-05-08\n",
      "eraab,192.168.170.243,1:45:14,2022-05-11\n",
      "jlansky,192.168.238.42,1:07:11,2022-05-11\n",
      "acook,192.168.52.90,9:56:48,2022-05-10\n",
      "asundara,192.168.58.217,23:17:52,2022-05-12\n",
      "jclark,192.168.214.49,20:49:00,2022-05-10\n",
      "cjackson,192.168.247.153,19:36:42,2022-05-12\n",
      "jclark,192.168.197.247,14:11:04,2022-05-12\n",
      "apatel,192.168.46.207,17:39:42,2022-05-10\n",
      "mabadi,192.168.96.244,10:24:43,2022-05-12\n",
      "iuduike,192.168.131.147,17:50:00,2022-05-11\n",
      "abellmas,192.168.60.111,13:37:05,2022-05-10\n",
      "gesparza,192.168.148.80,6:30:14,2022-05-11\n",
      "cgriffin,192.168.4.157,23:04:05,2022-05-09\n",
      "alevitsk,192.168.210.228,8:10:43,2022-05-08\n",
      "eraab,192.168.24.12,11:29:27,2022-05-11\n",
      "jsoto,192.168.25.60,5:09:21,2022-05-09\n",
      "\n"
     ]
    }
   ],
   "source": [
    "# Resets the `\"login.txt\"` file to its original contents\n",
    "# Allows learners to complete lab more than once\n",
    "\n",
    "# Assigns the original contents of the file to the `login_file` variable\n",
    "login_file = \"\"\"username,ip_address,time,date\n",
    "tshah,192.168.92.147,15:26:08,2022-05-10\n",
    "dtanaka,192.168.98.221,9:45:18,2022-05-09\n",
    "tmitchel,192.168.110.131,14:13:41,2022-05-11\n",
    "daquino,192.168.168.144,7:02:35,2022-05-08\n",
    "eraab,192.168.170.243,1:45:14,2022-05-11\n",
    "jlansky,192.168.238.42,1:07:11,2022-05-11\n",
    "acook,192.168.52.90,9:56:48,2022-05-10\n",
    "asundara,192.168.58.217,23:17:52,2022-05-12\n",
    "jclark,192.168.214.49,20:49:00,2022-05-10\n",
    "cjackson,192.168.247.153,19:36:42,2022-05-12\n",
    "jclark,192.168.197.247,14:11:04,2022-05-12\n",
    "apatel,192.168.46.207,17:39:42,2022-05-10\n",
    "mabadi,192.168.96.244,10:24:43,2022-05-12\n",
    "iuduike,192.168.131.147,17:50:00,2022-05-11\n",
    "abellmas,192.168.60.111,13:37:05,2022-05-10\n",
    "gesparza,192.168.148.80,6:30:14,2022-05-11\n",
    "cgriffin,192.168.4.157,23:04:05,2022-05-09\n",
    "alevitsk,192.168.210.228,8:10:43,2022-05-08\n",
    "eraab,192.168.24.12,11:29:27,2022-05-11\n",
    "jsoto,192.168.25.60,5:09:21,2022-05-09\n",
    "\"\"\"\n",
    "\n",
    "# Writes `login_file` to the `\"login.txt\"` file\n",
    "with open(\"login.txt\", \"w\") as file:\n",
    "          file.write(login_file)\n",
    "print(login_file) "
   ]
  },
  {
   "cell_type": "code",
   "execution_count": null,
   "metadata": {},
   "outputs": [],
   "source": []
  }
 ],
 "metadata": {
  "colab": {
   "provenance": [],
   "toc_visible": true
  },
  "kernelspec": {
   "display_name": "Python 3",
   "language": "python",
   "name": "python3"
  },
  "language_info": {
   "codemirror_mode": {
    "name": "ipython",
    "version": 3
   },
   "file_extension": ".py",
   "mimetype": "text/x-python",
   "name": "python",
   "nbconvert_exporter": "python",
   "pygments_lexer": "ipython3",
   "version": "3.7.6"
  }
 },
 "nbformat": 4,
 "nbformat_minor": 1
}
